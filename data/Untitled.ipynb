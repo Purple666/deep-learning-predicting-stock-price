{
 "cells": [
  {
   "cell_type": "code",
   "execution_count": 5,
   "metadata": {},
   "outputs": [
    {
     "name": "stdout",
     "output_type": "stream",
     "text": [
      "0.7393196202531646\n",
      "5056\n"
     ]
    }
   ],
   "source": [
    "import numpy as np\n",
    "import pandas as pd\n",
    "import math\n",
    "import tech_analysis as tech\n",
    "from os import listdir\n",
    "from os.path import isfile, join\n",
    "from sklearn.preprocessing import MinMaxScaler\n",
    "\n",
    "labels = np.load(\"dataset_30M_with_indicators_fixed_train_labels.npy\")\n",
    "\n",
    "no_action = 0\n",
    "\n",
    "for i in range(labels.shape[0]):\n",
    "    if labels[i][1] == 1:\n",
    "        no_action += 1\n",
    "result = no_action / labels.shape[0]\n",
    "print(result)\n",
    "print(labels.shape[0])"
   ]
  },
  {
   "cell_type": "code",
   "execution_count": null,
   "metadata": {},
   "outputs": [],
   "source": []
  }
 ],
 "metadata": {
  "kernelspec": {
   "display_name": "Python 3",
   "language": "python",
   "name": "python3"
  },
  "language_info": {
   "codemirror_mode": {
    "name": "ipython",
    "version": 3
   },
   "file_extension": ".py",
   "mimetype": "text/x-python",
   "name": "python",
   "nbconvert_exporter": "python",
   "pygments_lexer": "ipython3",
   "version": "3.6.4"
  }
 },
 "nbformat": 4,
 "nbformat_minor": 2
}
